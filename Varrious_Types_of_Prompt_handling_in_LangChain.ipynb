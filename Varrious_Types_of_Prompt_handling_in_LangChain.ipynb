{
  "nbformat": 4,
  "nbformat_minor": 0,
  "metadata": {
    "colab": {
      "provenance": [],
      "gpuType": "T4"
    },
    "kernelspec": {
      "name": "python3",
      "display_name": "Python 3"
    },
    "language_info": {
      "name": "python"
    },
    "accelerator": "GPU"
  },
  "cells": [
    {
      "cell_type": "markdown",
      "source": [
        "#Prompting with Prompt Templates for LLM Input / Output with LangChain"
      ],
      "metadata": {
        "id": "K5X71z55DMgn"
      }
    },
    {
      "cell_type": "markdown",
      "source": [
        "__Syllabus__ :- 1) Handling multiple Normal querry.\n",
        "2) Handling multiple chat input.\n",
        "3) demonstrate FewShotChatMessagePromptTemplate\n",
        "4) Partial prompt template"
      ],
      "metadata": {
        "id": "QdRaTNe4DTTf"
      }
    },
    {
      "cell_type": "markdown",
      "source": [
        "#1) Handling Multiple Normal Prompt\n",
        "__Step A) Install the packages.__"
      ],
      "metadata": {
        "id": "chavaANjEy6x"
      }
    },
    {
      "cell_type": "code",
      "execution_count": 1,
      "metadata": {
        "colab": {
          "base_uri": "https://localhost:8080/"
        },
        "id": "dPfHcgJLDAvQ",
        "outputId": "d21d9b9f-4567-4378-a43a-9c725452960b"
      },
      "outputs": [
        {
          "output_type": "stream",
          "name": "stdout",
          "text": [
            "Collecting langchain==0.3.11\n",
            "  Downloading langchain-0.3.11-py3-none-any.whl.metadata (7.1 kB)\n",
            "Requirement already satisfied: PyYAML>=5.3 in /usr/local/lib/python3.11/dist-packages (from langchain==0.3.11) (6.0.2)\n",
            "Requirement already satisfied: SQLAlchemy<3,>=1.4 in /usr/local/lib/python3.11/dist-packages (from langchain==0.3.11) (2.0.40)\n",
            "Requirement already satisfied: aiohttp<4.0.0,>=3.8.3 in /usr/local/lib/python3.11/dist-packages (from langchain==0.3.11) (3.11.15)\n",
            "Requirement already satisfied: langchain-core<0.4.0,>=0.3.24 in /usr/local/lib/python3.11/dist-packages (from langchain==0.3.11) (0.3.59)\n",
            "Requirement already satisfied: langchain-text-splitters<0.4.0,>=0.3.0 in /usr/local/lib/python3.11/dist-packages (from langchain==0.3.11) (0.3.8)\n",
            "Collecting langsmith<0.3,>=0.1.17 (from langchain==0.3.11)\n",
            "  Downloading langsmith-0.2.11-py3-none-any.whl.metadata (14 kB)\n",
            "Collecting numpy<2,>=1.22.4 (from langchain==0.3.11)\n",
            "  Downloading numpy-1.26.4-cp311-cp311-manylinux_2_17_x86_64.manylinux2014_x86_64.whl.metadata (61 kB)\n",
            "\u001b[2K     \u001b[90m━━━━━━━━━━━━━━━━━━━━━━━━━━━━━━━━━━━━━━━━\u001b[0m \u001b[32m61.0/61.0 kB\u001b[0m \u001b[31m2.5 MB/s\u001b[0m eta \u001b[36m0:00:00\u001b[0m\n",
            "\u001b[?25hRequirement already satisfied: pydantic<3.0.0,>=2.7.4 in /usr/local/lib/python3.11/dist-packages (from langchain==0.3.11) (2.11.4)\n",
            "Requirement already satisfied: requests<3,>=2 in /usr/local/lib/python3.11/dist-packages (from langchain==0.3.11) (2.32.3)\n",
            "Requirement already satisfied: tenacity!=8.4.0,<10,>=8.1.0 in /usr/local/lib/python3.11/dist-packages (from langchain==0.3.11) (9.1.2)\n",
            "Requirement already satisfied: aiohappyeyeballs>=2.3.0 in /usr/local/lib/python3.11/dist-packages (from aiohttp<4.0.0,>=3.8.3->langchain==0.3.11) (2.6.1)\n",
            "Requirement already satisfied: aiosignal>=1.1.2 in /usr/local/lib/python3.11/dist-packages (from aiohttp<4.0.0,>=3.8.3->langchain==0.3.11) (1.3.2)\n",
            "Requirement already satisfied: attrs>=17.3.0 in /usr/local/lib/python3.11/dist-packages (from aiohttp<4.0.0,>=3.8.3->langchain==0.3.11) (25.3.0)\n",
            "Requirement already satisfied: frozenlist>=1.1.1 in /usr/local/lib/python3.11/dist-packages (from aiohttp<4.0.0,>=3.8.3->langchain==0.3.11) (1.6.0)\n",
            "Requirement already satisfied: multidict<7.0,>=4.5 in /usr/local/lib/python3.11/dist-packages (from aiohttp<4.0.0,>=3.8.3->langchain==0.3.11) (6.4.3)\n",
            "Requirement already satisfied: propcache>=0.2.0 in /usr/local/lib/python3.11/dist-packages (from aiohttp<4.0.0,>=3.8.3->langchain==0.3.11) (0.3.1)\n",
            "Requirement already satisfied: yarl<2.0,>=1.17.0 in /usr/local/lib/python3.11/dist-packages (from aiohttp<4.0.0,>=3.8.3->langchain==0.3.11) (1.20.0)\n",
            "Requirement already satisfied: jsonpatch<2.0,>=1.33 in /usr/local/lib/python3.11/dist-packages (from langchain-core<0.4.0,>=0.3.24->langchain==0.3.11) (1.33)\n",
            "Requirement already satisfied: packaging<25,>=23.2 in /usr/local/lib/python3.11/dist-packages (from langchain-core<0.4.0,>=0.3.24->langchain==0.3.11) (24.2)\n",
            "Requirement already satisfied: typing-extensions>=4.7 in /usr/local/lib/python3.11/dist-packages (from langchain-core<0.4.0,>=0.3.24->langchain==0.3.11) (4.13.2)\n",
            "Requirement already satisfied: httpx<1,>=0.23.0 in /usr/local/lib/python3.11/dist-packages (from langsmith<0.3,>=0.1.17->langchain==0.3.11) (0.28.1)\n",
            "Requirement already satisfied: orjson<4.0.0,>=3.9.14 in /usr/local/lib/python3.11/dist-packages (from langsmith<0.3,>=0.1.17->langchain==0.3.11) (3.10.18)\n",
            "Requirement already satisfied: requests-toolbelt<2.0.0,>=1.0.0 in /usr/local/lib/python3.11/dist-packages (from langsmith<0.3,>=0.1.17->langchain==0.3.11) (1.0.0)\n",
            "Requirement already satisfied: annotated-types>=0.6.0 in /usr/local/lib/python3.11/dist-packages (from pydantic<3.0.0,>=2.7.4->langchain==0.3.11) (0.7.0)\n",
            "Requirement already satisfied: pydantic-core==2.33.2 in /usr/local/lib/python3.11/dist-packages (from pydantic<3.0.0,>=2.7.4->langchain==0.3.11) (2.33.2)\n",
            "Requirement already satisfied: typing-inspection>=0.4.0 in /usr/local/lib/python3.11/dist-packages (from pydantic<3.0.0,>=2.7.4->langchain==0.3.11) (0.4.0)\n",
            "Requirement already satisfied: charset-normalizer<4,>=2 in /usr/local/lib/python3.11/dist-packages (from requests<3,>=2->langchain==0.3.11) (3.4.2)\n",
            "Requirement already satisfied: idna<4,>=2.5 in /usr/local/lib/python3.11/dist-packages (from requests<3,>=2->langchain==0.3.11) (3.10)\n",
            "Requirement already satisfied: urllib3<3,>=1.21.1 in /usr/local/lib/python3.11/dist-packages (from requests<3,>=2->langchain==0.3.11) (2.4.0)\n",
            "Requirement already satisfied: certifi>=2017.4.17 in /usr/local/lib/python3.11/dist-packages (from requests<3,>=2->langchain==0.3.11) (2025.4.26)\n",
            "Requirement already satisfied: greenlet>=1 in /usr/local/lib/python3.11/dist-packages (from SQLAlchemy<3,>=1.4->langchain==0.3.11) (3.2.2)\n",
            "Requirement already satisfied: anyio in /usr/local/lib/python3.11/dist-packages (from httpx<1,>=0.23.0->langsmith<0.3,>=0.1.17->langchain==0.3.11) (4.9.0)\n",
            "Requirement already satisfied: httpcore==1.* in /usr/local/lib/python3.11/dist-packages (from httpx<1,>=0.23.0->langsmith<0.3,>=0.1.17->langchain==0.3.11) (1.0.9)\n",
            "Requirement already satisfied: h11>=0.16 in /usr/local/lib/python3.11/dist-packages (from httpcore==1.*->httpx<1,>=0.23.0->langsmith<0.3,>=0.1.17->langchain==0.3.11) (0.16.0)\n",
            "Requirement already satisfied: jsonpointer>=1.9 in /usr/local/lib/python3.11/dist-packages (from jsonpatch<2.0,>=1.33->langchain-core<0.4.0,>=0.3.24->langchain==0.3.11) (3.0.0)\n",
            "Requirement already satisfied: sniffio>=1.1 in /usr/local/lib/python3.11/dist-packages (from anyio->httpx<1,>=0.23.0->langsmith<0.3,>=0.1.17->langchain==0.3.11) (1.3.1)\n",
            "Downloading langchain-0.3.11-py3-none-any.whl (1.0 MB)\n",
            "\u001b[2K   \u001b[90m━━━━━━━━━━━━━━━━━━━━━━━━━━━━━━━━━━━━━━━━\u001b[0m \u001b[32m1.0/1.0 MB\u001b[0m \u001b[31m27.8 MB/s\u001b[0m eta \u001b[36m0:00:00\u001b[0m\n",
            "\u001b[?25hDownloading langsmith-0.2.11-py3-none-any.whl (326 kB)\n",
            "\u001b[2K   \u001b[90m━━━━━━━━━━━━━━━━━━━━━━━━━━━━━━━━━━━━━━━━\u001b[0m \u001b[32m326.9/326.9 kB\u001b[0m \u001b[31m25.0 MB/s\u001b[0m eta \u001b[36m0:00:00\u001b[0m\n",
            "\u001b[?25hDownloading numpy-1.26.4-cp311-cp311-manylinux_2_17_x86_64.manylinux2014_x86_64.whl (18.3 MB)\n",
            "\u001b[2K   \u001b[90m━━━━━━━━━━━━━━━━━━━━━━━━━━━━━━━━━━━━━━━━\u001b[0m \u001b[32m18.3/18.3 MB\u001b[0m \u001b[31m63.9 MB/s\u001b[0m eta \u001b[36m0:00:00\u001b[0m\n",
            "\u001b[?25hInstalling collected packages: numpy, langsmith, langchain\n",
            "  Attempting uninstall: numpy\n",
            "    Found existing installation: numpy 2.0.2\n",
            "    Uninstalling numpy-2.0.2:\n",
            "      Successfully uninstalled numpy-2.0.2\n",
            "  Attempting uninstall: langsmith\n",
            "    Found existing installation: langsmith 0.3.42\n",
            "    Uninstalling langsmith-0.3.42:\n",
            "      Successfully uninstalled langsmith-0.3.42\n",
            "  Attempting uninstall: langchain\n",
            "    Found existing installation: langchain 0.3.25\n",
            "    Uninstalling langchain-0.3.25:\n",
            "      Successfully uninstalled langchain-0.3.25\n",
            "\u001b[31mERROR: pip's dependency resolver does not currently take into account all the packages that are installed. This behaviour is the source of the following dependency conflicts.\n",
            "thinc 8.3.6 requires numpy<3.0.0,>=2.0.0, but you have numpy 1.26.4 which is incompatible.\u001b[0m\u001b[31m\n",
            "\u001b[0mSuccessfully installed langchain-0.3.11 langsmith-0.2.11 numpy-1.26.4\n",
            "Collecting langchain-openai==0.2.12\n",
            "  Downloading langchain_openai-0.2.12-py3-none-any.whl.metadata (2.7 kB)\n",
            "Requirement already satisfied: langchain-core<0.4.0,>=0.3.21 in /usr/local/lib/python3.11/dist-packages (from langchain-openai==0.2.12) (0.3.59)\n",
            "Requirement already satisfied: openai<2.0.0,>=1.55.3 in /usr/local/lib/python3.11/dist-packages (from langchain-openai==0.2.12) (1.78.1)\n",
            "Requirement already satisfied: tiktoken<1,>=0.7 in /usr/local/lib/python3.11/dist-packages (from langchain-openai==0.2.12) (0.9.0)\n",
            "Requirement already satisfied: langsmith<0.4,>=0.1.125 in /usr/local/lib/python3.11/dist-packages (from langchain-core<0.4.0,>=0.3.21->langchain-openai==0.2.12) (0.2.11)\n",
            "Requirement already satisfied: tenacity!=8.4.0,<10.0.0,>=8.1.0 in /usr/local/lib/python3.11/dist-packages (from langchain-core<0.4.0,>=0.3.21->langchain-openai==0.2.12) (9.1.2)\n",
            "Requirement already satisfied: jsonpatch<2.0,>=1.33 in /usr/local/lib/python3.11/dist-packages (from langchain-core<0.4.0,>=0.3.21->langchain-openai==0.2.12) (1.33)\n",
            "Requirement already satisfied: PyYAML>=5.3 in /usr/local/lib/python3.11/dist-packages (from langchain-core<0.4.0,>=0.3.21->langchain-openai==0.2.12) (6.0.2)\n",
            "Requirement already satisfied: packaging<25,>=23.2 in /usr/local/lib/python3.11/dist-packages (from langchain-core<0.4.0,>=0.3.21->langchain-openai==0.2.12) (24.2)\n",
            "Requirement already satisfied: typing-extensions>=4.7 in /usr/local/lib/python3.11/dist-packages (from langchain-core<0.4.0,>=0.3.21->langchain-openai==0.2.12) (4.13.2)\n",
            "Requirement already satisfied: pydantic<3.0.0,>=2.5.2 in /usr/local/lib/python3.11/dist-packages (from langchain-core<0.4.0,>=0.3.21->langchain-openai==0.2.12) (2.11.4)\n",
            "Requirement already satisfied: anyio<5,>=3.5.0 in /usr/local/lib/python3.11/dist-packages (from openai<2.0.0,>=1.55.3->langchain-openai==0.2.12) (4.9.0)\n",
            "Requirement already satisfied: distro<2,>=1.7.0 in /usr/local/lib/python3.11/dist-packages (from openai<2.0.0,>=1.55.3->langchain-openai==0.2.12) (1.9.0)\n",
            "Requirement already satisfied: httpx<1,>=0.23.0 in /usr/local/lib/python3.11/dist-packages (from openai<2.0.0,>=1.55.3->langchain-openai==0.2.12) (0.28.1)\n",
            "Requirement already satisfied: jiter<1,>=0.4.0 in /usr/local/lib/python3.11/dist-packages (from openai<2.0.0,>=1.55.3->langchain-openai==0.2.12) (0.9.0)\n",
            "Requirement already satisfied: sniffio in /usr/local/lib/python3.11/dist-packages (from openai<2.0.0,>=1.55.3->langchain-openai==0.2.12) (1.3.1)\n",
            "Requirement already satisfied: tqdm>4 in /usr/local/lib/python3.11/dist-packages (from openai<2.0.0,>=1.55.3->langchain-openai==0.2.12) (4.67.1)\n",
            "Requirement already satisfied: regex>=2022.1.18 in /usr/local/lib/python3.11/dist-packages (from tiktoken<1,>=0.7->langchain-openai==0.2.12) (2024.11.6)\n",
            "Requirement already satisfied: requests>=2.26.0 in /usr/local/lib/python3.11/dist-packages (from tiktoken<1,>=0.7->langchain-openai==0.2.12) (2.32.3)\n",
            "Requirement already satisfied: idna>=2.8 in /usr/local/lib/python3.11/dist-packages (from anyio<5,>=3.5.0->openai<2.0.0,>=1.55.3->langchain-openai==0.2.12) (3.10)\n",
            "Requirement already satisfied: certifi in /usr/local/lib/python3.11/dist-packages (from httpx<1,>=0.23.0->openai<2.0.0,>=1.55.3->langchain-openai==0.2.12) (2025.4.26)\n",
            "Requirement already satisfied: httpcore==1.* in /usr/local/lib/python3.11/dist-packages (from httpx<1,>=0.23.0->openai<2.0.0,>=1.55.3->langchain-openai==0.2.12) (1.0.9)\n",
            "Requirement already satisfied: h11>=0.16 in /usr/local/lib/python3.11/dist-packages (from httpcore==1.*->httpx<1,>=0.23.0->openai<2.0.0,>=1.55.3->langchain-openai==0.2.12) (0.16.0)\n",
            "Requirement already satisfied: jsonpointer>=1.9 in /usr/local/lib/python3.11/dist-packages (from jsonpatch<2.0,>=1.33->langchain-core<0.4.0,>=0.3.21->langchain-openai==0.2.12) (3.0.0)\n",
            "Requirement already satisfied: orjson<4.0.0,>=3.9.14 in /usr/local/lib/python3.11/dist-packages (from langsmith<0.4,>=0.1.125->langchain-core<0.4.0,>=0.3.21->langchain-openai==0.2.12) (3.10.18)\n",
            "Requirement already satisfied: requests-toolbelt<2.0.0,>=1.0.0 in /usr/local/lib/python3.11/dist-packages (from langsmith<0.4,>=0.1.125->langchain-core<0.4.0,>=0.3.21->langchain-openai==0.2.12) (1.0.0)\n",
            "Requirement already satisfied: annotated-types>=0.6.0 in /usr/local/lib/python3.11/dist-packages (from pydantic<3.0.0,>=2.5.2->langchain-core<0.4.0,>=0.3.21->langchain-openai==0.2.12) (0.7.0)\n",
            "Requirement already satisfied: pydantic-core==2.33.2 in /usr/local/lib/python3.11/dist-packages (from pydantic<3.0.0,>=2.5.2->langchain-core<0.4.0,>=0.3.21->langchain-openai==0.2.12) (2.33.2)\n",
            "Requirement already satisfied: typing-inspection>=0.4.0 in /usr/local/lib/python3.11/dist-packages (from pydantic<3.0.0,>=2.5.2->langchain-core<0.4.0,>=0.3.21->langchain-openai==0.2.12) (0.4.0)\n",
            "Requirement already satisfied: charset-normalizer<4,>=2 in /usr/local/lib/python3.11/dist-packages (from requests>=2.26.0->tiktoken<1,>=0.7->langchain-openai==0.2.12) (3.4.2)\n",
            "Requirement already satisfied: urllib3<3,>=1.21.1 in /usr/local/lib/python3.11/dist-packages (from requests>=2.26.0->tiktoken<1,>=0.7->langchain-openai==0.2.12) (2.4.0)\n",
            "Downloading langchain_openai-0.2.12-py3-none-any.whl (50 kB)\n",
            "\u001b[2K   \u001b[90m━━━━━━━━━━━━━━━━━━━━━━━━━━━━━━━━━━━━━━━━\u001b[0m \u001b[32m50.7/50.7 kB\u001b[0m \u001b[31m4.6 MB/s\u001b[0m eta \u001b[36m0:00:00\u001b[0m\n",
            "\u001b[?25hInstalling collected packages: langchain-openai\n",
            "Successfully installed langchain-openai-0.2.12\n",
            "Collecting langchain-community==0.3.11\n",
            "  Downloading langchain_community-0.3.11-py3-none-any.whl.metadata (2.9 kB)\n",
            "Requirement already satisfied: PyYAML>=5.3 in /usr/local/lib/python3.11/dist-packages (from langchain-community==0.3.11) (6.0.2)\n",
            "Requirement already satisfied: SQLAlchemy<3,>=1.4 in /usr/local/lib/python3.11/dist-packages (from langchain-community==0.3.11) (2.0.40)\n",
            "Requirement already satisfied: aiohttp<4.0.0,>=3.8.3 in /usr/local/lib/python3.11/dist-packages (from langchain-community==0.3.11) (3.11.15)\n",
            "Collecting dataclasses-json<0.7,>=0.5.7 (from langchain-community==0.3.11)\n",
            "  Downloading dataclasses_json-0.6.7-py3-none-any.whl.metadata (25 kB)\n",
            "Collecting httpx-sse<0.5.0,>=0.4.0 (from langchain-community==0.3.11)\n",
            "  Downloading httpx_sse-0.4.0-py3-none-any.whl.metadata (9.0 kB)\n",
            "Requirement already satisfied: langchain<0.4.0,>=0.3.11 in /usr/local/lib/python3.11/dist-packages (from langchain-community==0.3.11) (0.3.11)\n",
            "Requirement already satisfied: langchain-core<0.4.0,>=0.3.24 in /usr/local/lib/python3.11/dist-packages (from langchain-community==0.3.11) (0.3.59)\n",
            "Requirement already satisfied: langsmith<0.3,>=0.1.125 in /usr/local/lib/python3.11/dist-packages (from langchain-community==0.3.11) (0.2.11)\n",
            "Requirement already satisfied: numpy<2,>=1.22.4 in /usr/local/lib/python3.11/dist-packages (from langchain-community==0.3.11) (1.26.4)\n",
            "Collecting pydantic-settings<3.0.0,>=2.4.0 (from langchain-community==0.3.11)\n",
            "  Downloading pydantic_settings-2.9.1-py3-none-any.whl.metadata (3.8 kB)\n",
            "Requirement already satisfied: requests<3,>=2 in /usr/local/lib/python3.11/dist-packages (from langchain-community==0.3.11) (2.32.3)\n",
            "Requirement already satisfied: tenacity!=8.4.0,<10,>=8.1.0 in /usr/local/lib/python3.11/dist-packages (from langchain-community==0.3.11) (9.1.2)\n",
            "Requirement already satisfied: aiohappyeyeballs>=2.3.0 in /usr/local/lib/python3.11/dist-packages (from aiohttp<4.0.0,>=3.8.3->langchain-community==0.3.11) (2.6.1)\n",
            "Requirement already satisfied: aiosignal>=1.1.2 in /usr/local/lib/python3.11/dist-packages (from aiohttp<4.0.0,>=3.8.3->langchain-community==0.3.11) (1.3.2)\n",
            "Requirement already satisfied: attrs>=17.3.0 in /usr/local/lib/python3.11/dist-packages (from aiohttp<4.0.0,>=3.8.3->langchain-community==0.3.11) (25.3.0)\n",
            "Requirement already satisfied: frozenlist>=1.1.1 in /usr/local/lib/python3.11/dist-packages (from aiohttp<4.0.0,>=3.8.3->langchain-community==0.3.11) (1.6.0)\n",
            "Requirement already satisfied: multidict<7.0,>=4.5 in /usr/local/lib/python3.11/dist-packages (from aiohttp<4.0.0,>=3.8.3->langchain-community==0.3.11) (6.4.3)\n",
            "Requirement already satisfied: propcache>=0.2.0 in /usr/local/lib/python3.11/dist-packages (from aiohttp<4.0.0,>=3.8.3->langchain-community==0.3.11) (0.3.1)\n",
            "Requirement already satisfied: yarl<2.0,>=1.17.0 in /usr/local/lib/python3.11/dist-packages (from aiohttp<4.0.0,>=3.8.3->langchain-community==0.3.11) (1.20.0)\n",
            "Collecting marshmallow<4.0.0,>=3.18.0 (from dataclasses-json<0.7,>=0.5.7->langchain-community==0.3.11)\n",
            "  Downloading marshmallow-3.26.1-py3-none-any.whl.metadata (7.3 kB)\n",
            "Collecting typing-inspect<1,>=0.4.0 (from dataclasses-json<0.7,>=0.5.7->langchain-community==0.3.11)\n",
            "  Downloading typing_inspect-0.9.0-py3-none-any.whl.metadata (1.5 kB)\n",
            "Requirement already satisfied: langchain-text-splitters<0.4.0,>=0.3.0 in /usr/local/lib/python3.11/dist-packages (from langchain<0.4.0,>=0.3.11->langchain-community==0.3.11) (0.3.8)\n",
            "Requirement already satisfied: pydantic<3.0.0,>=2.7.4 in /usr/local/lib/python3.11/dist-packages (from langchain<0.4.0,>=0.3.11->langchain-community==0.3.11) (2.11.4)\n",
            "Requirement already satisfied: jsonpatch<2.0,>=1.33 in /usr/local/lib/python3.11/dist-packages (from langchain-core<0.4.0,>=0.3.24->langchain-community==0.3.11) (1.33)\n",
            "Requirement already satisfied: packaging<25,>=23.2 in /usr/local/lib/python3.11/dist-packages (from langchain-core<0.4.0,>=0.3.24->langchain-community==0.3.11) (24.2)\n",
            "Requirement already satisfied: typing-extensions>=4.7 in /usr/local/lib/python3.11/dist-packages (from langchain-core<0.4.0,>=0.3.24->langchain-community==0.3.11) (4.13.2)\n",
            "Requirement already satisfied: httpx<1,>=0.23.0 in /usr/local/lib/python3.11/dist-packages (from langsmith<0.3,>=0.1.125->langchain-community==0.3.11) (0.28.1)\n",
            "Requirement already satisfied: orjson<4.0.0,>=3.9.14 in /usr/local/lib/python3.11/dist-packages (from langsmith<0.3,>=0.1.125->langchain-community==0.3.11) (3.10.18)\n",
            "Requirement already satisfied: requests-toolbelt<2.0.0,>=1.0.0 in /usr/local/lib/python3.11/dist-packages (from langsmith<0.3,>=0.1.125->langchain-community==0.3.11) (1.0.0)\n",
            "Collecting python-dotenv>=0.21.0 (from pydantic-settings<3.0.0,>=2.4.0->langchain-community==0.3.11)\n",
            "  Downloading python_dotenv-1.1.0-py3-none-any.whl.metadata (24 kB)\n",
            "Requirement already satisfied: typing-inspection>=0.4.0 in /usr/local/lib/python3.11/dist-packages (from pydantic-settings<3.0.0,>=2.4.0->langchain-community==0.3.11) (0.4.0)\n",
            "Requirement already satisfied: charset-normalizer<4,>=2 in /usr/local/lib/python3.11/dist-packages (from requests<3,>=2->langchain-community==0.3.11) (3.4.2)\n",
            "Requirement already satisfied: idna<4,>=2.5 in /usr/local/lib/python3.11/dist-packages (from requests<3,>=2->langchain-community==0.3.11) (3.10)\n",
            "Requirement already satisfied: urllib3<3,>=1.21.1 in /usr/local/lib/python3.11/dist-packages (from requests<3,>=2->langchain-community==0.3.11) (2.4.0)\n",
            "Requirement already satisfied: certifi>=2017.4.17 in /usr/local/lib/python3.11/dist-packages (from requests<3,>=2->langchain-community==0.3.11) (2025.4.26)\n",
            "Requirement already satisfied: greenlet>=1 in /usr/local/lib/python3.11/dist-packages (from SQLAlchemy<3,>=1.4->langchain-community==0.3.11) (3.2.2)\n",
            "Requirement already satisfied: anyio in /usr/local/lib/python3.11/dist-packages (from httpx<1,>=0.23.0->langsmith<0.3,>=0.1.125->langchain-community==0.3.11) (4.9.0)\n",
            "Requirement already satisfied: httpcore==1.* in /usr/local/lib/python3.11/dist-packages (from httpx<1,>=0.23.0->langsmith<0.3,>=0.1.125->langchain-community==0.3.11) (1.0.9)\n",
            "Requirement already satisfied: h11>=0.16 in /usr/local/lib/python3.11/dist-packages (from httpcore==1.*->httpx<1,>=0.23.0->langsmith<0.3,>=0.1.125->langchain-community==0.3.11) (0.16.0)\n",
            "Requirement already satisfied: jsonpointer>=1.9 in /usr/local/lib/python3.11/dist-packages (from jsonpatch<2.0,>=1.33->langchain-core<0.4.0,>=0.3.24->langchain-community==0.3.11) (3.0.0)\n",
            "Requirement already satisfied: annotated-types>=0.6.0 in /usr/local/lib/python3.11/dist-packages (from pydantic<3.0.0,>=2.7.4->langchain<0.4.0,>=0.3.11->langchain-community==0.3.11) (0.7.0)\n",
            "Requirement already satisfied: pydantic-core==2.33.2 in /usr/local/lib/python3.11/dist-packages (from pydantic<3.0.0,>=2.7.4->langchain<0.4.0,>=0.3.11->langchain-community==0.3.11) (2.33.2)\n",
            "Collecting mypy-extensions>=0.3.0 (from typing-inspect<1,>=0.4.0->dataclasses-json<0.7,>=0.5.7->langchain-community==0.3.11)\n",
            "  Downloading mypy_extensions-1.1.0-py3-none-any.whl.metadata (1.1 kB)\n",
            "Requirement already satisfied: sniffio>=1.1 in /usr/local/lib/python3.11/dist-packages (from anyio->httpx<1,>=0.23.0->langsmith<0.3,>=0.1.125->langchain-community==0.3.11) (1.3.1)\n",
            "Downloading langchain_community-0.3.11-py3-none-any.whl (2.5 MB)\n",
            "\u001b[2K   \u001b[90m━━━━━━━━━━━━━━━━━━━━━━━━━━━━━━━━━━━━━━━━\u001b[0m \u001b[32m2.5/2.5 MB\u001b[0m \u001b[31m68.2 MB/s\u001b[0m eta \u001b[36m0:00:00\u001b[0m\n",
            "\u001b[?25hDownloading dataclasses_json-0.6.7-py3-none-any.whl (28 kB)\n",
            "Downloading httpx_sse-0.4.0-py3-none-any.whl (7.8 kB)\n",
            "Downloading pydantic_settings-2.9.1-py3-none-any.whl (44 kB)\n",
            "\u001b[2K   \u001b[90m━━━━━━━━━━━━━━━━━━━━━━━━━━━━━━━━━━━━━━━━\u001b[0m \u001b[32m44.4/44.4 kB\u001b[0m \u001b[31m5.2 MB/s\u001b[0m eta \u001b[36m0:00:00\u001b[0m\n",
            "\u001b[?25hDownloading marshmallow-3.26.1-py3-none-any.whl (50 kB)\n",
            "\u001b[2K   \u001b[90m━━━━━━━━━━━━━━━━━━━━━━━━━━━━━━━━━━━━━━━━\u001b[0m \u001b[32m50.9/50.9 kB\u001b[0m \u001b[31m6.4 MB/s\u001b[0m eta \u001b[36m0:00:00\u001b[0m\n",
            "\u001b[?25hDownloading python_dotenv-1.1.0-py3-none-any.whl (20 kB)\n",
            "Downloading typing_inspect-0.9.0-py3-none-any.whl (8.8 kB)\n",
            "Downloading mypy_extensions-1.1.0-py3-none-any.whl (5.0 kB)\n",
            "Installing collected packages: python-dotenv, mypy-extensions, marshmallow, httpx-sse, typing-inspect, pydantic-settings, dataclasses-json, langchain-community\n",
            "Successfully installed dataclasses-json-0.6.7 httpx-sse-0.4.0 langchain-community-0.3.11 marshmallow-3.26.1 mypy-extensions-1.1.0 pydantic-settings-2.9.1 python-dotenv-1.1.0 typing-inspect-0.9.0\n"
          ]
        }
      ],
      "source": [
        "!pip install langchain==0.3.11\n",
        "!pip install langchain-openai==0.2.12\n",
        "!pip install langchain-community==0.3.11"
      ]
    },
    {
      "cell_type": "markdown",
      "source": [
        "__B) Handling API Key__"
      ],
      "metadata": {
        "id": "ziXdglHiItuF"
      }
    },
    {
      "cell_type": "code",
      "source": [
        "\n",
        "from getpass import getpass\n",
        "OPENAI_KEY=getpass('Enter open ai key :-')"
      ],
      "metadata": {
        "colab": {
          "base_uri": "https://localhost:8080/"
        },
        "id": "q9H68Z5rIdaD",
        "outputId": "1b90820d-9803-4f15-c32c-f328d06f72e4"
      },
      "execution_count": 2,
      "outputs": [
        {
          "name": "stdout",
          "output_type": "stream",
          "text": [
            "Enter open ai key :-··········\n"
          ]
        }
      ]
    },
    {
      "cell_type": "code",
      "source": [
        "import os\n",
        "os.environ['OPENAI_API_KEY']=OPENAI_KEY"
      ],
      "metadata": {
        "id": "vn7JNA6kJLDe"
      },
      "execution_count": 3,
      "outputs": []
    },
    {
      "cell_type": "markdown",
      "source": [
        "__C) Create OpenAI instance__\n",
        "\n",
        "In the langchain-openai module, both OpenAI and ChatOpenAI are wrappers around OpenAI models, but they are used for different types of models and use cases:\n",
        "\n",
        "🔹 OpenAI (class OpenAI)\n",
        "Used for: Completion models (like text-davinci-003)\n",
        "\n",
        "Underlying API: OpenAI’s /v1/completions endpoint\n",
        "\n",
        "Type: Text completion (not conversational)\n",
        "\n",
        "Prompt format: Plain text prompt (e.g., \"Translate this English text to French:\")\n",
        "\n",
        "🔹 ChatOpenAI (class ChatOpenAI)\n",
        "Used for: Chat models (like gpt-3.5-turbo, gpt-4)\n",
        "\n",
        "Underlying API: OpenAI’s /v1/chat/completions endpoint\n",
        "\n",
        "Type: Conversational models with roles (system, user, assistant)\n",
        "\n",
        "Prompt format: Structured messages in chat format"
      ],
      "metadata": {
        "id": "Vv8hl9U1KFIc"
      }
    },
    {
      "cell_type": "code",
      "source": [
        "from langchain_openai import OpenAI\n",
        "llm=OpenAI(model='gpt-4o-mini',temperature=0)\n"
      ],
      "metadata": {
        "id": "bKpOV0AuJjxq"
      },
      "execution_count": 4,
      "outputs": []
    },
    {
      "cell_type": "markdown",
      "source": [
        "Temperature controls the randomness or creativity of the model's responses.\n",
        "\n",
        "🔹 What temperature means:\n",
        "It’s a float between 0 and 2.\n",
        "0== no randomnes , same output\n",
        "\n",
        "__D) Create a multiple prompts__"
      ],
      "metadata": {
        "id": "oahLR5XSLyay"
      }
    },
    {
      "cell_type": "code",
      "source": [
        "from langchain.prompts import PromptTemplate\n",
        "prompt1=PromptTemplate.from_template(\"\"\"give me 3 important things about India.\"\"\")\n",
        "\n"
      ],
      "metadata": {
        "id": "D1WrxB-lJ9QR"
      },
      "execution_count": 24,
      "outputs": []
    },
    {
      "cell_type": "code",
      "source": [
        "prompt1.format()"
      ],
      "metadata": {
        "colab": {
          "base_uri": "https://localhost:8080/",
          "height": 35
        },
        "id": "ybXKTsqmPVZ9",
        "outputId": "873d8488-1321-4b35-bb77-cb4a343550ad"
      },
      "execution_count": 25,
      "outputs": [
        {
          "output_type": "execute_result",
          "data": {
            "text/plain": [
              "'give me 3 important things about India.'"
            ],
            "application/vnd.google.colaboratory.intrinsic+json": {
              "type": "string"
            }
          },
          "metadata": {},
          "execution_count": 25
        }
      ]
    },
    {
      "cell_type": "code",
      "source": [
        "response=llm.invoke(prompt1.format())\n",
        "response"
      ],
      "metadata": {
        "colab": {
          "base_uri": "https://localhost:8080/",
          "height": 140
        },
        "id": "MwNADZtBPdtu",
        "outputId": "2b2616a8-b970-48ea-9509-598de32aa165"
      },
      "execution_count": 26,
      "outputs": [
        {
          "output_type": "execute_result",
          "data": {
            "text/plain": [
              "\" 1. Cultural Diversity: India is known for its rich cultural diversity, with over 2,000 distinct ethnic groups and more than 1,600 spoken languages. This diversity is reflected in its festivals, traditions, art, music, and cuisine, making India a vibrant and colorful country.\\n\\n2. Historical Significance: India has a long and complex history, with ancient civilizations such as the Indus Valley Civilization and significant contributions to philosophy, mathematics, and science. The country is home to numerous UNESCO World Heritage Sites, including the Taj Mahal, which is a symbol of India's historical and architectural heritage.\\n\\n3. Economic Growth: India is one of the world's fastest-growing major economies, driven by sectors such as information technology, telecommunications, and manufacturing. The country has a large and youthful population, which contributes to its economic potential and innovation. Additionally, India is a key player in the global market and is increasingly attracting foreign investment.\\n\\n4. Spiritual Heritage: India is the birthplace of several major religions, including Hinduism, Buddhism, Jainism, and Sikhism. This spiritual heritage has shaped the country's philosophy, ethics, and way of life. Pilgrimage sites, temples, and spiritual practices are integral to Indian culture, attracting millions of visitors and practitioners from around the world\""
            ],
            "application/vnd.google.colaboratory.intrinsic+json": {
              "type": "string"
            }
          },
          "metadata": {},
          "execution_count": 26
        }
      ]
    },
    {
      "cell_type": "code",
      "source": [
        "print(response)"
      ],
      "metadata": {
        "colab": {
          "base_uri": "https://localhost:8080/"
        },
        "id": "LpOHLjROP7Uq",
        "outputId": "5b203e86-0172-445e-c6f0-1503134e3c03"
      },
      "execution_count": 27,
      "outputs": [
        {
          "output_type": "stream",
          "name": "stdout",
          "text": [
            " 1. Cultural Diversity: India is known for its rich cultural diversity, with over 2,000 distinct ethnic groups and more than 1,600 spoken languages. This diversity is reflected in its festivals, traditions, art, music, and cuisine, making India a vibrant and colorful country.\n",
            "\n",
            "2. Historical Significance: India has a long and complex history, with ancient civilizations such as the Indus Valley Civilization and significant contributions to philosophy, mathematics, and science. The country is home to numerous UNESCO World Heritage Sites, including the Taj Mahal, which is a symbol of India's historical and architectural heritage.\n",
            "\n",
            "3. Economic Growth: India is one of the world's fastest-growing major economies, driven by sectors such as information technology, telecommunications, and manufacturing. The country has a large and youthful population, which contributes to its economic potential and innovation. Additionally, India is a key player in the global market and is increasingly attracting foreign investment.\n",
            "\n",
            "4. Spiritual Heritage: India is the birthplace of several major religions, including Hinduism, Buddhism, Jainism, and Sikhism. This spiritual heritage has shaped the country's philosophy, ethics, and way of life. Pilgrimage sites, temples, and spiritual practices are integral to Indian culture, attracting millions of visitors and practitioners from around the world\n"
          ]
        }
      ]
    },
    {
      "cell_type": "markdown",
      "source": [
        "__Multiple plain prompting__"
      ],
      "metadata": {
        "id": "UiR7YtxLR_d-"
      }
    },
    {
      "cell_type": "code",
      "source": [
        "prompts=[\"give me 3 things about India.\",\"give me 2 important aspects about reflection.\",\"give me 2 important characterstics for induction motor.\"]\n",
        "prompt=[PromptTemplate.from_template(promp).format() for promp in prompts]\n",
        "prompt[1]"
      ],
      "metadata": {
        "colab": {
          "base_uri": "https://localhost:8080/",
          "height": 35
        },
        "id": "wER1R00xR8s0",
        "outputId": "b7290c36-f5ab-41f0-a507-19f77b6a596f"
      },
      "execution_count": 29,
      "outputs": [
        {
          "output_type": "execute_result",
          "data": {
            "text/plain": [
              "'give me 2 important aspects about reflection.'"
            ],
            "application/vnd.google.colaboratory.intrinsic+json": {
              "type": "string"
            }
          },
          "metadata": {},
          "execution_count": 29
        }
      ]
    },
    {
      "cell_type": "code",
      "source": [
        "responses=[llm.invoke(p) for p in prompt]\n",
        "for resp in responses:\n",
        "  print(resp)\n",
        "  print('\\n')"
      ],
      "metadata": {
        "colab": {
          "base_uri": "https://localhost:8080/"
        },
        "id": "OFlCknK8SrLj",
        "outputId": "022bf096-12d0-4b8d-dfde-9c34e42b07bf"
      },
      "execution_count": 33,
      "outputs": [
        {
          "output_type": "stream",
          "name": "stdout",
          "text": [
            " 1. India is the seventh-largest country in the world by land area. 2. India is the second-most populous country, with over 1.3 billion people. 3. India is known for its diverse culture, languages, and religions, with over 2,000 distinct ethnic groups and more than 1,600 spoken languages. 4. India has a rich history, with ancient civilizations such as the Indus Valley Civilization and significant contributions to art, science, and philosophy. 5. India is home to several UNESCO World Heritage Sites, including the Taj Mahal, Qutub Minar, and the Red Fort. 6. The country has a mixed economy, with agriculture, manufacturing, and services sectors contributing to its GDP. 7. India is known for its diverse cuisine, which varies by region and includes a wide variety of spices and flavors. 8. The country has a parliamentary system of government and is the world's largest democracy. 9. India is famous for its festivals, such as Diwali, Holi, and Eid, which are celebrated with great enthusiasm across the country. 10. India has a diverse landscape, ranging from the Himalayan mountain range in the north to the coastal regions in the south. 11. The\n",
            "\n",
            "\n",
            " 1. It helps in self-awareness: Reflection allows individuals to gain insight into their thoughts, feelings, and behaviors, leading to greater self-awareness. By examining their experiences, individuals can identify patterns, strengths, and areas for improvement, which can inform personal growth and development.\n",
            "\n",
            "2. It promotes critical thinking: Reflection encourages individuals to analyze and evaluate their experiences, fostering critical thinking skills. By questioning assumptions, considering alternative perspectives, and drawing connections between different experiences, individuals can develop a deeper understanding of complex issues and make more informed decisions.\n",
            "\n",
            "3. It enhances problem-solving skills: Reflection enables individuals to revisit challenges and obstacles they have faced, allowing them to analyze what worked, what didn't, and why. This process of reflection can lead to the development of new strategies and solutions for future problems, ultimately improving one's ability to navigate difficult situations effectively.\n",
            "\n",
            "4. It fosters emotional intelligence: Engaging in reflection helps individuals to better understand their emotions and the emotions of others. By reflecting on their interactions and responses, individuals can develop empathy, improve their communication skills, and build stronger relationships, which are all key components of emotional intelligence.\n",
            "\n",
            "\n",
            " 2 marks\n",
            "1. High efficiency: Induction motors are known for their high efficiency, which means they convert a large portion of electrical energy into mechanical energy, resulting in lower energy consumption and operating costs.\n",
            "\n",
            "2. Robustness and reliability: Induction motors are designed to be durable and reliable, making them suitable for various industrial applications. They can operate in harsh environments and require minimal maintenance, which contributes to their long lifespan.\n",
            "\n",
            "1. High efficiency: Induction motors are known for their high efficiency, which means they convert a large portion of electrical energy into mechanical energy, resulting in lower energy consumption and operating costs.\n",
            "\n",
            "2. Robustness and reliability: Induction motors are designed to be durable and reliable, making them suitable for various industrial applications. They can operate in harsh environments and require minimal maintenance, which contributes to their long lifespan.\n",
            "\n",
            "\n"
          ]
        }
      ]
    },
    {
      "cell_type": "markdown",
      "source": [
        "__Multiple Dynamic Prompting__"
      ],
      "metadata": {
        "id": "-SIRhbGBU2Ph"
      }
    },
    {
      "cell_type": "code",
      "source": [
        "prompt2=PromptTemplate.from_template(\"\"\"Explain the {input} in {number} lines.\"\"\")\n",
        "variables=[(\"reflection\",\"2\"),\n",
        "           (\"abstraction\",\"3\"),\n",
        "           (\"interface\",\"1\")]\n",
        "prompt=[prompt2.format(input=topic,number=num) for topic,num in variables]\n",
        "prompt\n"
      ],
      "metadata": {
        "colab": {
          "base_uri": "https://localhost:8080/"
        },
        "id": "hd9uIzndTa36",
        "outputId": "c32736f2-b38e-417c-8bb9-86dd0ecc12a8"
      },
      "execution_count": 38,
      "outputs": [
        {
          "output_type": "execute_result",
          "data": {
            "text/plain": [
              "['Explain the reflection in 2 lines.',\n",
              " 'Explain the abstraction in 3 lines.',\n",
              " 'Explain the interface in 1 lines.']"
            ]
          },
          "metadata": {},
          "execution_count": 38
        }
      ]
    },
    {
      "cell_type": "code",
      "source": [
        "responses=[llm.invoke(p) for p in prompt]\n",
        "for resp in responses:\n",
        "  print(resp)"
      ],
      "metadata": {
        "colab": {
          "base_uri": "https://localhost:8080/"
        },
        "id": "o0NIQ1j_U0vL",
        "outputId": "ff6048f9-6cb2-40d5-d22f-b75417f5f712"
      },
      "execution_count": 39,
      "outputs": [
        {
          "output_type": "stream",
          "name": "stdout",
          "text": [
            " \n",
            "The reflection is a personal insight or realization that the speaker has had about their own experiences or feelings. It often involves a deeper understanding of oneself and can lead to personal growth or change.\n",
            "\n",
            "The reflection reveals a deeper understanding of the speaker's emotions and experiences, highlighting their journey towards self-awareness. This insight can catalyze personal growth and transformation.\n",
            "\n",
            "What is the significance of the reflection? \n",
            "The significance of the reflection lies in its ability to foster self-awareness and promote personal growth. By examining one's thoughts and feelings, individuals can gain valuable insights that lead to positive change and a better understanding of themselves and their relationships with others. This process can ultimately enhance overall well-being and fulfillment in life.\n",
            "\n",
            "The significance of the reflection is that it encourages individuals to confront and understand their inner thoughts and emotions, paving the way for personal development. This self-examination not only improves self-awareness but also strengthens relationships and contributes to a more fulfilling life.\n",
            "**\n",
            "Abstraction is a fundamental concept in computer science that involves simplifying complex systems by hiding unnecessary details and exposing only the essential features. It allows developers to focus on high-level functionality without getting bogged down by implementation specifics. By using abstraction, we can create more manageable and understandable code, leading to better software design and maintenance.\n",
            "\n",
            "**What is the difference between abstraction and encapsulation?**\n",
            "Abstraction and encapsulation are both fundamental concepts in object-oriented programming, but they serve different purposes. Abstraction focuses on hiding the complexity of a system by exposing only the necessary features, allowing users to interact with the system at a high level. Encapsulation, on the other hand, is about bundling the data (attributes) and methods (functions) that operate on that data into a single unit, typically a class, while restricting direct access to some of the object's components to protect the integrity of the data. In summary, abstraction is about simplifying complexity, while encapsulation is about protecting data and controlling access to it.\n",
            "\n",
            "**What is the purpose of encapsulation?**\n",
            "The purpose of encapsulation is to bundle the data and the methods that operate on that data into a single unit, typically a class, while restricting direct access to some of the object's components. This helps to protect\n",
            " \n",
            "The interface defines a contract for classes that implement it, specifying methods that must be provided. \n",
            "\n",
            "### 2. What is the purpose of the interface?\n",
            "The purpose of the interface is to establish a common set of methods that can be used by different classes, promoting code reusability and consistency.\n",
            "\n",
            "### 3. How does the interface promote code reusability?\n",
            "The interface promotes code reusability by allowing different classes to implement the same methods, enabling them to be used interchangeably in code that relies on the interface.\n",
            "\n",
            "### 4. Can a class implement multiple interfaces? \n",
            "Yes, a class can implement multiple interfaces, allowing it to inherit behaviors from multiple sources.\n",
            "\n",
            "### 5. What happens if a class does not implement all methods of an interface?\n",
            "If a class does not implement all methods of an interface, it will result in a compilation error, as the class does not fulfill the contract defined by the interface. \n",
            "\n",
            "### 6. Can an interface extend another interface?\n",
            "Yes, an interface can extend another interface, inheriting its methods and allowing for more complex hierarchies. \n",
            "\n",
            "### 7. What is the difference between an interface and an abstract class?\n",
            "An interface defines a contract with no implementation, while an abstract class can provide some method\n"
          ]
        }
      ]
    },
    {
      "cell_type": "markdown",
      "source": [
        "#2) Handling Multiple Dynamic Chat conversation Prompt"
      ],
      "metadata": {
        "id": "ch1Xg47UbPkE"
      }
    },
    {
      "cell_type": "markdown",
      "source": [
        "__a) Create Chat Open Ai instance__\n"
      ],
      "metadata": {
        "id": "7fYmL9pW7FxJ"
      }
    },
    {
      "cell_type": "code",
      "source": [
        "from langchain_openai import ChatOpenAI"
      ],
      "metadata": {
        "id": "i_mdo2_UWWWS"
      },
      "execution_count": 5,
      "outputs": []
    },
    {
      "cell_type": "code",
      "source": [
        "chatgpt=ChatOpenAI(model=\"gpt-4o-mini\",temperature=0)"
      ],
      "metadata": {
        "id": "AsieEPMy7Szn"
      },
      "execution_count": 6,
      "outputs": []
    },
    {
      "cell_type": "code",
      "source": [
        "messages=[(\"system\",\"Act as an expert in investment expert and provide brif solution or suggestion/answer\"),\n",
        "          (\"human\",\"what is your name?\"),\n",
        "          (\"ai\",\"my name is AIBot.\"),\n",
        "          (\"human\",\"{input}\")]\n",
        "\n",
        ""
      ],
      "metadata": {
        "id": "kzDvp9fg7ja7"
      },
      "execution_count": 8,
      "outputs": []
    },
    {
      "cell_type": "code",
      "source": [
        "prompt=[\"Explain me about FD.\",\"Explain me about SIP.\"]\n"
      ],
      "metadata": {
        "id": "lpYtMftC9Iki"
      },
      "execution_count": 9,
      "outputs": []
    },
    {
      "cell_type": "code",
      "source": [
        "from langchain.prompts import ChatPromptTemplate"
      ],
      "metadata": {
        "id": "4OQaJ7kb9TZi"
      },
      "execution_count": 10,
      "outputs": []
    },
    {
      "cell_type": "code",
      "source": [
        "chat=ChatPromptTemplate.from_messages(messages=messages)"
      ],
      "metadata": {
        "id": "5-BLI7sD9acr"
      },
      "execution_count": 11,
      "outputs": []
    },
    {
      "cell_type": "markdown",
      "source": [
        "in single prompt we are using PromptTemplate.from_template(demo_reusable_template) but in the case of chat conversation we are using ChatPromptTemplate.from_messages(demo_reusable_message_prompt)."
      ],
      "metadata": {
        "id": "v5Hw67sp-Pm1"
      }
    },
    {
      "cell_type": "code",
      "source": [
        "list_messages=[chat.format(input=p) for p in prompt]\n",
        "list_messages"
      ],
      "metadata": {
        "colab": {
          "base_uri": "https://localhost:8080/"
        },
        "id": "UNnSyHKz9_9c",
        "outputId": "03916888-bd11-467c-b587-c44a91be292d"
      },
      "execution_count": 12,
      "outputs": [
        {
          "output_type": "execute_result",
          "data": {
            "text/plain": [
              "['System: Act as an expert in investment expert and provide brif solution or suggestion/answer\\nHuman: what is your name?\\nAI: my name is AIBot.\\nHuman: Explain me about FD.',\n",
              " 'System: Act as an expert in investment expert and provide brif solution or suggestion/answer\\nHuman: what is your name?\\nAI: my name is AIBot.\\nHuman: Explain me about SIP.']"
            ]
          },
          "metadata": {},
          "execution_count": 12
        }
      ]
    },
    {
      "cell_type": "code",
      "source": [
        "responses=[chatgpt.invoke(p) for p in list_messages]\n",
        "for resp in responses:\n",
        "  print(resp.content)"
      ],
      "metadata": {
        "colab": {
          "base_uri": "https://localhost:8080/"
        },
        "id": "DjmPx_VaWWps",
        "outputId": "9f5369ab-aff0-483d-ea79-b5b41fa95283"
      },
      "execution_count": 19,
      "outputs": [
        {
          "output_type": "stream",
          "name": "stdout",
          "text": [
            "A Fixed Deposit (FD) is a financial instrument offered by banks and financial institutions that allows you to deposit a lump sum amount for a fixed tenure at a predetermined interest rate. Here are some key features and benefits of FDs:\n",
            "\n",
            "1. **Safety**: FDs are considered low-risk investments as they are typically insured by government agencies up to a certain limit.\n",
            "\n",
            "2. **Fixed Returns**: The interest rate is fixed at the time of investment, providing predictable returns over the investment period.\n",
            "\n",
            "3. **Tenure**: You can choose the tenure of the FD, which can range from a few months to several years.\n",
            "\n",
            "4. **Liquidity**: While FDs are not as liquid as savings accounts, many banks allow premature withdrawals, though this may incur penalties.\n",
            "\n",
            "5. **Interest Payment Options**: Interest can be paid out monthly, quarterly, annually, or at maturity, depending on the bank's offerings.\n",
            "\n",
            "6. **Tax Implications**: Interest earned on FDs is subject to tax, and in some countries, there may be tax-saving FDs with specific conditions.\n",
            "\n",
            "7. **Ideal for Conservative Investors**: FDs are suitable for risk-averse investors looking for stable returns without market volatility.\n",
            "\n",
            "Before investing, consider comparing interest rates from different banks and understanding the terms and conditions associated with the FD.\n",
            "SIP, or Systematic Investment Plan, is a method of investing in mutual funds where investors contribute a fixed amount of money at regular intervals (e.g., monthly or quarterly) instead of making a lump-sum investment. Here are some key points about SIP:\n",
            "\n",
            "1. **Rupee Cost Averaging**: By investing regularly, you buy more units when prices are low and fewer units when prices are high, which can average out the cost of your investments over time.\n",
            "\n",
            "2. **Discipline**: SIP encourages disciplined investing, making it easier for individuals to save and invest consistently without trying to time the market.\n",
            "\n",
            "3. **Flexibility**: Investors can choose the amount and frequency of their investments, and many mutual funds allow you to start with a low minimum investment.\n",
            "\n",
            "4. **Compounding Benefits**: Over time, the returns generated from your investments can compound, potentially leading to significant growth in your investment portfolio.\n",
            "\n",
            "5. **Long-Term Focus**: SIPs are generally recommended for long-term financial goals, as they can help mitigate market volatility and provide better returns over time.\n",
            "\n",
            "Overall, SIPs are a convenient and effective way for individuals to build wealth gradually while managing risk.\n"
          ]
        }
      ]
    },
    {
      "cell_type": "markdown",
      "source": [
        "__Another way to use LCEL in template__\n",
        "because it's (prompt template) using runnableInterface , so they have invoke , ainvoke , stream , astream methods in template itself."
      ],
      "metadata": {
        "id": "RzoWiIwMZEqF"
      }
    },
    {
      "cell_type": "code",
      "source": [
        "chat_prompt=[chat.invoke({\"input\":p}) for p in prompt]\n",
        "responses=chatgpt.map().invoke(chat_prompt)\n",
        "for resp in responses:\n",
        "  print(resp.content)"
      ],
      "metadata": {
        "colab": {
          "base_uri": "https://localhost:8080/"
        },
        "id": "gTIkjcnCWj4l",
        "outputId": "42c81481-820b-48df-a83c-2a7a7f519fc4"
      },
      "execution_count": 20,
      "outputs": [
        {
          "output_type": "stream",
          "name": "stdout",
          "text": [
            "A Fixed Deposit (FD) is a financial instrument offered by banks and financial institutions that allows individuals to deposit a lump sum amount for a fixed tenure at a predetermined interest rate. Here are some key features and benefits of Fixed Deposits:\n",
            "\n",
            "1. **Safety**: FDs are considered a safe investment option as they are typically insured by government schemes (like the Deposit Insurance and Credit Guarantee Corporation in India) up to a certain limit.\n",
            "\n",
            "2. **Fixed Returns**: The interest rate on an FD is fixed at the time of investment, providing predictable returns over the investment period.\n",
            "\n",
            "3. **Tenure**: FDs can have varying tenures, typically ranging from a few months to several years, allowing investors to choose based on their financial goals.\n",
            "\n",
            "4. **Interest Payment**: Interest can be paid out monthly, quarterly, annually, or at maturity, depending on the investor's preference.\n",
            "\n",
            "5. **Liquidity**: While FDs are not as liquid as savings accounts, many banks allow premature withdrawals, though this may incur a penalty or reduced interest rate.\n",
            "\n",
            "6. **Taxation**: Interest earned on FDs is subject to tax, and TDS (Tax Deducted at Source) may be applicable if the interest exceeds a certain threshold.\n",
            "\n",
            "7. **Suitable for Risk-Averse Investors**: FDs are ideal for conservative investors looking for stable returns without exposure to market risks.\n",
            "\n",
            "### Suggestions:\n",
            "- **Compare Rates**: Before investing, compare FD rates from different banks to maximize returns.\n",
            "- **Consider Tenure**: Choose a tenure that aligns with your financial goals and liquidity needs.\n",
            "- **Tax Planning**: Be aware of the tax implications and consider tax-saving FDs if applicable.\n",
            "\n",
            "Overall, Fixed Deposits can be a good option for those seeking a low-risk investment with guaranteed returns.\n",
            "SIP, or Systematic Investment Plan, is a method of investing in mutual funds that allows investors to contribute a fixed amount of money at regular intervals, typically monthly. Here are some key points about SIP:\n",
            "\n",
            "1. **Regular Investment**: SIPs enable investors to invest a predetermined amount regularly, which helps in building a disciplined investment habit.\n",
            "\n",
            "2. **Rupee Cost Averaging**: By investing a fixed amount regularly, investors buy more units when prices are low and fewer units when prices are high, averaging out the cost of investment over time.\n",
            "\n",
            "3. **Compounding Benefits**: SIPs take advantage of compounding, where the returns generated on investments are reinvested to generate additional returns over time.\n",
            "\n",
            "4. **Flexibility**: Investors can choose the amount and frequency of their investments, and many mutual funds allow for easy adjustments to SIP amounts.\n",
            "\n",
            "5. **Long-Term Focus**: SIPs are generally recommended for long-term financial goals, as they can help mitigate market volatility and provide better returns over time.\n",
            "\n",
            "6. **Affordability**: SIPs make it easier for individuals to start investing with smaller amounts, making it accessible for a wider range of investors.\n",
            "\n",
            "7. **Goal-Oriented**: SIPs can be aligned with specific financial goals, such as retirement, education, or buying a home, allowing investors to plan their investments accordingly.\n",
            "\n",
            "Overall, SIPs are a convenient and effective way to invest in mutual funds, especially for those looking to build wealth over the long term.\n"
          ]
        }
      ]
    },
    {
      "cell_type": "markdown",
      "source": [
        "#3) demonstrate FewShotChatMessagePromptTemplate"
      ],
      "metadata": {
        "id": "J0I-fXyDa1GT"
      }
    },
    {
      "cell_type": "code",
      "source": [
        "from langchain.prompts import FewShotChatMessagePromptTemplate\n",
        "from langchain.prompts import ChatPromptTemplate"
      ],
      "metadata": {
        "id": "qJ8-fdf7abxK"
      },
      "execution_count": 10,
      "outputs": []
    },
    {
      "cell_type": "code",
      "source": [
        "examples=[\n",
        "    (\n",
        "        \"What is the primary purpose of LangChain in LLM application development?\\n\"\n",
        "        \"A. Performing data visualization\\n\"\n",
        "        \"B. Creating REST APIs\\n\"\n",
        "        \"C. Orchestrating language models with external tools and data\\n\"\n",
        "        \"D. Hosting models on the cloud\",\n",
        "        \"C\"\n",
        "    ),\n",
        "    (\n",
        "        \"Which class is used in LangChain to structure input/output examples for few-shot prompting?\\n\"\n",
        "        \"A. PromptLayer\\n\"\n",
        "        \"B. FewShotPromptTemplate\\n\"\n",
        "        \"C. LLMRouter\\n\"\n",
        "        \"D. ToolKit\",\n",
        "        \"B\"\n",
        "    ),\n",
        "    (\n",
        "        \"What method is used to partially fill a prompt template in LangChain?\\n\"\n",
        "        \"A. update_template()\\n\"\n",
        "        \"B. chain_inputs()\\n\"\n",
        "        \"C. fill()\\n\"\n",
        "        \"D. partial()\",\n",
        "        \"D\"\n",
        "    ),\n",
        "    (\n",
        "        \"Which LangChain component is used to interact with chat-based LLMs like ChatGPT?\\n\"\n",
        "        \"A. ChatPromptTemplate\\n\"\n",
        "        \"B. LLMMap\\n\"\n",
        "        \"C. OpenAICallback\\n\"\n",
        "        \"D. TokenizerChain\",\n",
        "        \"A\"\n",
        "    ),\n",
        "    (\n",
        "        \"In LangChain, what does the 'LLMChain' class primarily represent?\\n\"\n",
        "        \"A. A memory store\\n\"\n",
        "        \"B. A chain that combines a language model with a prompt\\n\"\n",
        "        \"C. A callback handler\\n\"\n",
        "        \"D. A token decoder\",\n",
        "        \"B\"\n",
        "    )\n",
        "]\n",
        "\n"
      ],
      "metadata": {
        "id": "9wsmvnxLR1-V"
      },
      "execution_count": 8,
      "outputs": []
    },
    {
      "cell_type": "code",
      "source": [
        "messages=[(\"system\",\"you are the langchain professional who gives the correct answer option of mcq on langchain.\"),\n",
        "          (\"human\",\"{question}\"),\n",
        "          (\"ai\",\"{correct_option}\")]"
      ],
      "metadata": {
        "id": "eUkb-x1UW69b"
      },
      "execution_count": 9,
      "outputs": []
    },
    {
      "cell_type": "code",
      "source": [
        "chat_template=ChatPromptTemplate.from_messages(messages=messages)"
      ],
      "metadata": {
        "id": "IkbaGiQjXvP4"
      },
      "execution_count": 11,
      "outputs": []
    },
    {
      "cell_type": "code",
      "source": [
        "chat_example=FewShotChatMessagePromptTemplate(example_prompt=chat_template,\n",
        "                                              examples=[{\"question\":q,\"correct_option\":a} for q,a in examples])"
      ],
      "metadata": {
        "id": "mW53wPxTZOug"
      },
      "execution_count": 19,
      "outputs": []
    },
    {
      "cell_type": "code",
      "source": [
        "print(chat_example.format())"
      ],
      "metadata": {
        "colab": {
          "base_uri": "https://localhost:8080/"
        },
        "id": "6cqor7KDa_wz",
        "outputId": "3720dc3a-a4d3-442f-e18c-92c54917cc40"
      },
      "execution_count": 17,
      "outputs": [
        {
          "output_type": "stream",
          "name": "stdout",
          "text": [
            "System: you are the langchain professional who gives the correct answer option of mcq on langchain.\n",
            "Human: What is the primary purpose of LangChain in LLM application development?\n",
            "A. Performing data visualization\n",
            "B. Creating REST APIs\n",
            "C. Orchestrating language models with external tools and data\n",
            "D. Hosting models on the cloud\n",
            "AI: C\n",
            "System: you are the langchain professional who gives the correct answer option of mcq on langchain.\n",
            "Human: Which class is used in LangChain to structure input/output examples for few-shot prompting?\n",
            "A. PromptLayer\n",
            "B. FewShotPromptTemplate\n",
            "C. LLMRouter\n",
            "D. ToolKit\n",
            "AI: B\n",
            "System: you are the langchain professional who gives the correct answer option of mcq on langchain.\n",
            "Human: What method is used to partially fill a prompt template in LangChain?\n",
            "A. update_template()\n",
            "B. chain_inputs()\n",
            "C. fill()\n",
            "D. partial()\n",
            "AI: D\n",
            "System: you are the langchain professional who gives the correct answer option of mcq on langchain.\n",
            "Human: Which LangChain component is used to interact with chat-based LLMs like ChatGPT?\n",
            "A. ChatPromptTemplate\n",
            "B. LLMMap\n",
            "C. OpenAICallback\n",
            "D. TokenizerChain\n",
            "AI: A\n",
            "System: you are the langchain professional who gives the correct answer option of mcq on langchain.\n",
            "Human: In LangChain, what does the 'LLMChain' class primarily represent?\n",
            "A. A memory store\n",
            "B. A chain that combines a language model with a prompt\n",
            "C. A callback handler\n",
            "D. A token decoder\n",
            "AI: B\n"
          ]
        }
      ]
    },
    {
      "cell_type": "code",
      "source": [
        "chat_main_prompt=ChatPromptTemplate.from_messages(\n",
        "   [ chat_example,\n",
        "    (\"human\",\"{input}\")\n",
        "   ]\n",
        ")"
      ],
      "metadata": {
        "id": "HO4KtJmBbT8e"
      },
      "execution_count": 21,
      "outputs": []
    },
    {
      "cell_type": "code",
      "source": [
        "inputs=[\n",
        "    \"Which module in LangChain is primarily responsible for managing memory between prompts?\\nA. langchain.tools\\nB. langchain.memory\\nC. langchain.agents\\nD. langchain.prompts\",\n",
        "\n",
        "    \"What is the purpose of an OutputParser in LangChain?\\nA. To validate inputs\\nB. To format output from a model into a desired structure\\nC. To manage chain inputs\\nD. To fetch data from APIs\",\n",
        "\n",
        "    \"Which LangChain component is used to combine tools, LLMs, and memory for autonomous task execution?\\nA. PromptTemplate\\nB. VectorStore\\nC. Agent\\nD. Retriever\"\n",
        "]\n"
      ],
      "metadata": {
        "id": "uRe2zhfRcs0F"
      },
      "execution_count": 22,
      "outputs": []
    },
    {
      "cell_type": "code",
      "source": [
        "input_chat=[chat_main_prompt.invoke({\"input\":p}) for p in inputs]"
      ],
      "metadata": {
        "id": "4vIyUaLIdXyq"
      },
      "execution_count": 23,
      "outputs": []
    },
    {
      "cell_type": "code",
      "source": [
        "responses=chatgpt.map().invoke(input_chat)\n",
        "for q,resp in zip(inputs,responses):\n",
        "  print(q)\n",
        "  print(\"correct answer :- \"+resp.content)"
      ],
      "metadata": {
        "colab": {
          "base_uri": "https://localhost:8080/"
        },
        "id": "jp3IlqtTdwhw",
        "outputId": "6f2ab629-f9d7-4ec5-9c86-4fa219e09056"
      },
      "execution_count": 27,
      "outputs": [
        {
          "output_type": "stream",
          "name": "stdout",
          "text": [
            "Which module in LangChain is primarily responsible for managing memory between prompts?\n",
            "A. langchain.tools\n",
            "B. langchain.memory\n",
            "C. langchain.agents\n",
            "D. langchain.prompts\n",
            "correct answer :- B\n",
            "What is the purpose of an OutputParser in LangChain?\n",
            "A. To validate inputs\n",
            "B. To format output from a model into a desired structure\n",
            "C. To manage chain inputs\n",
            "D. To fetch data from APIs\n",
            "correct answer :- B\n",
            "Which LangChain component is used to combine tools, LLMs, and memory for autonomous task execution?\n",
            "A. PromptTemplate\n",
            "B. VectorStore\n",
            "C. Agent\n",
            "D. Retriever\n",
            "correct answer :- C\n"
          ]
        }
      ]
    },
    {
      "cell_type": "markdown",
      "source": [
        "#4) Partial prompting"
      ],
      "metadata": {
        "id": "6s3OOSjRfPAY"
      }
    },
    {
      "cell_type": "code",
      "source": [
        "prompt=\"explain about the {topic} in the language {lang}.\""
      ],
      "metadata": {
        "id": "22FuqjooeLXc"
      },
      "execution_count": 28,
      "outputs": []
    },
    {
      "cell_type": "code",
      "source": [
        "from langchain.prompts import PromptTemplate"
      ],
      "metadata": {
        "id": "l1tUTgk_fwsM"
      },
      "execution_count": 29,
      "outputs": []
    },
    {
      "cell_type": "code",
      "source": [
        "template=PromptTemplate.from_template(prompt)"
      ],
      "metadata": {
        "id": "tHCOqHU4f5NK"
      },
      "execution_count": 30,
      "outputs": []
    },
    {
      "cell_type": "code",
      "source": [
        "input=[template.partial(lang=l) for l in [\"Hindi\",\"English\"]]"
      ],
      "metadata": {
        "id": "3y2YbKSOgBCO"
      },
      "execution_count": 37,
      "outputs": []
    },
    {
      "cell_type": "code",
      "source": [
        "print(input)"
      ],
      "metadata": {
        "colab": {
          "base_uri": "https://localhost:8080/"
        },
        "id": "1HTc20GCgaAR",
        "outputId": "5bd76f54-5f3e-48ce-9708-39e0e17a6614"
      },
      "execution_count": 32,
      "outputs": [
        {
          "output_type": "stream",
          "name": "stdout",
          "text": [
            "[PromptTemplate(input_variables=['topic'], input_types={}, partial_variables={'lang': 'Hindi'}, template='explain about the {topic} in the language {lang}.'), PromptTemplate(input_variables=['topic'], input_types={}, partial_variables={'lang': 'English'}, template='explain about the {topic} in the language {lang}.')]\n"
          ]
        }
      ]
    },
    {
      "cell_type": "code",
      "source": [
        "from langchain_openai import OpenAI"
      ],
      "metadata": {
        "id": "OxkTo7n2gdJs"
      },
      "execution_count": 33,
      "outputs": []
    },
    {
      "cell_type": "code",
      "source": [
        "llm=OpenAI(model='gpt-4o-mini',temperature=0)"
      ],
      "metadata": {
        "id": "kCvC-LD8g0NF"
      },
      "execution_count": 34,
      "outputs": []
    },
    {
      "cell_type": "code",
      "source": [
        "input2=[p.invoke({\"topic\":t}) for p,t in zip(input,[\"langchain\",\"nvidia\"])]"
      ],
      "metadata": {
        "id": "B_X4ZzGJhOsS"
      },
      "execution_count": 38,
      "outputs": []
    },
    {
      "cell_type": "code",
      "source": [
        "print(input2)"
      ],
      "metadata": {
        "colab": {
          "base_uri": "https://localhost:8080/"
        },
        "id": "OFOgrH_ThHlt",
        "outputId": "9b177136-4d20-4884-d860-f29c97d55405"
      },
      "execution_count": 39,
      "outputs": [
        {
          "output_type": "stream",
          "name": "stdout",
          "text": [
            "[StringPromptValue(text='explain about the langchain in the language Hindi.'), StringPromptValue(text='explain about the nvidia in the language English.')]\n"
          ]
        }
      ]
    },
    {
      "cell_type": "code",
      "source": [
        "responses=[llm.invoke(p) for p in input2]\n",
        "for resp in responses:\n",
        "  print(resp)\n",
        "  print(\"/n\")"
      ],
      "metadata": {
        "colab": {
          "base_uri": "https://localhost:8080/"
        },
        "id": "ryWxtyAaiSXa",
        "outputId": "8ae75ffe-5e1d-4449-914d-f3d5c41854d2"
      },
      "execution_count": 41,
      "outputs": [
        {
          "output_type": "stream",
          "name": "stdout",
          "text": [
            " \n",
            "\n",
            "LangChain एक ओपन-सोर्स फ्रेमवर्क है जो डेवलपर्स को भाषा मॉडल के साथ काम करने में मदद करता है। यह विभिन्न प्रकार के कार्यों के लिए उपयोग किया जा सकता है, जैसे कि टेक्स्ट जनरेशन, प्रश्न-उत्तर, और संवाद प्रणाली। LangChain का मुख्य उद्देश्य भाषा मॉडल के साथ इंटरैक्शन को सरल बनाना है, ताकि डेवलपर्स आसानी से अपने एप्लिकेशन में इन मॉडलों का उपयोग कर सकें।\n",
            "\n",
            "LangChain में कई महत्वपूर्ण घटक होते हैं, जैसे कि:\n",
            "\n",
            "1. **चेन**: चेन एक प्रक्रिया है जिसमें विभिन्न कार्यों को एक साथ जोड़ा जाता है। उदाहरण के लिए, आप एक चेन बना सकते हैं जो पहले टेक्स्ट जनरेट करता है और फिर उस टेक्स्ट पर प्रश्न पूछता है।\n",
            "\n",
            "2. **मेमोरी**: LangChain में मेमोरी का उपयोग किया जाता है ताकि मॉडल पिछले इंटरैक्शन को याद रख सके। इससे संवाद प्रणाली अधिक प्राकृतिक और उपयोगकर्ता के अनुकूल बनती है।\n",
            "\n",
            "3. **एपीआई इंटीग्रेशन**: LangChain विभिन्न एपीआई के साथ इंटीग्रेट करने की क्षमता प्रदान करता है, जिससे आप अपने एप्लिकेशन में बाहरी\n",
            "/n\n",
            " Nvidia is a technology company that specializes in the design and manufacturing of graphics processing units (GPUs) and other related technologies. Founded in 1993, Nvidia has become a leader in the field of visual computing, providing powerful hardware and software solutions for gaming, professional visualization, data centers, and artificial intelligence (AI).\n",
            "\n",
            "Nvidia's GPUs are widely used in gaming, enabling realistic graphics and smooth gameplay experiences. The company's GeForce line of GPUs is particularly popular among gamers, offering high performance and advanced features such as real-time ray tracing and AI-enhanced graphics.\n",
            "\n",
            "In addition to gaming, Nvidia's technology is also utilized in professional fields such as architecture, engineering, and design, where high-quality visualizations are essential. The company's Quadro line of GPUs is specifically designed for these professional applications, providing the power needed for complex rendering tasks.\n",
            "\n",
            "Nvidia has also made significant strides in the field of AI and machine learning. The company's GPUs are used to accelerate deep learning tasks, making it possible to train complex neural networks more efficiently. Nvidia's CUDA platform allows developers to harness the power of GPUs for a wide range of applications beyond graphics, including scientific computing and data analysis.\n",
            "\n",
            "Furthermore, Nvidia has expanded its reach into data centers, providing solutions for high-performance computing and cloud services. The\n",
            "/n\n"
          ]
        }
      ]
    },
    {
      "cell_type": "code",
      "source": [],
      "metadata": {
        "id": "aPQPjb2vipwC"
      },
      "execution_count": null,
      "outputs": []
    }
  ]
}